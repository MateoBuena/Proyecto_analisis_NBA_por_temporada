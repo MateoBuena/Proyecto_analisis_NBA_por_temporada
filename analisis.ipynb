{
 "cells": [
  {
   "cell_type": "markdown",
   "metadata": {},
   "source": [
    "# Proyecto de análisis de datos NBA\n",
    "\n",
    "Este proyecto se va a basar en limpiar y analizar un archivo .CSV con datos de jugadores de la NBA.\n",
    "vamos a ver una breve limpieza de datos que nos va a ayudar a poder trabajar de forma efectiva con los datos para luego visualizar algunas gráficas."
   ]
  },
  {
   "cell_type": "markdown",
   "metadata": {},
   "source": [
    "Empezamos importando las librerías que vamos a utilizar."
   ]
  },
  {
   "cell_type": "code",
   "execution_count": 216,
   "metadata": {},
   "outputs": [],
   "source": [
    "## Importo las librerías a usar en este análisis.\n",
    "import pandas as pd\n",
    "import numpy as np\n",
    "import matplotlib.pyplot as plt\n",
    "import seaborn as sns"
   ]
  },
  {
   "cell_type": "markdown",
   "metadata": {},
   "source": [
    "A continuación, abrimos el archivo \"Player Totals.csv\" que es el archivo con el cual vamos a trabajar."
   ]
  },
  {
   "cell_type": "code",
   "execution_count": 217,
   "metadata": {},
   "outputs": [],
   "source": [
    "## Abro el archivo 'Player Totals.csv' y lo convierto en dataframe para poder trabajar con esos datos.\n",
    "df_player_totals=pd.read_csv('Player Totals.csv')"
   ]
  },
  {
   "cell_type": "markdown",
   "metadata": {},
   "source": [
    "Ahora, con el archivo abierto, vamos a proceder con la limpieza de datos, voy a resumír los siguientes pasos en este momento para así luego se vea el proceso sin inconvenientes:\n",
    "\n",
    "1. Nos fijamos cuantas filas y columnas tiene el dataframe\n",
    "2. Observamos las primeras 5 filas para ver como vienen los datos.\n",
    "3. usamos la función \"columns\" para ver los titulos de las columnas.\n",
    "4. Eliminamos las columnas que no nos sirven para este análisis."
   ]
  },
  {
   "cell_type": "code",
   "execution_count": 218,
   "metadata": {},
   "outputs": [
    {
     "data": {
      "text/plain": [
       "(31870, 35)"
      ]
     },
     "execution_count": 218,
     "metadata": {},
     "output_type": "execute_result"
    }
   ],
   "source": [
    "## Veo cuantas filas y columnas tiene el dataframe.\n",
    "df_player_totals.shape"
   ]
  },
  {
   "cell_type": "code",
   "execution_count": 219,
   "metadata": {},
   "outputs": [
    {
     "data": {
      "text/html": [
       "<div>\n",
       "<style scoped>\n",
       "    .dataframe tbody tr th:only-of-type {\n",
       "        vertical-align: middle;\n",
       "    }\n",
       "\n",
       "    .dataframe tbody tr th {\n",
       "        vertical-align: top;\n",
       "    }\n",
       "\n",
       "    .dataframe thead th {\n",
       "        text-align: right;\n",
       "    }\n",
       "</style>\n",
       "<table border=\"1\" class=\"dataframe\">\n",
       "  <thead>\n",
       "    <tr style=\"text-align: right;\">\n",
       "      <th></th>\n",
       "      <th>seas_id</th>\n",
       "      <th>season</th>\n",
       "      <th>player_id</th>\n",
       "      <th>player</th>\n",
       "      <th>birth_year</th>\n",
       "      <th>pos</th>\n",
       "      <th>age</th>\n",
       "      <th>experience</th>\n",
       "      <th>lg</th>\n",
       "      <th>tm</th>\n",
       "      <th>...</th>\n",
       "      <th>ft_percent</th>\n",
       "      <th>orb</th>\n",
       "      <th>drb</th>\n",
       "      <th>trb</th>\n",
       "      <th>ast</th>\n",
       "      <th>stl</th>\n",
       "      <th>blk</th>\n",
       "      <th>tov</th>\n",
       "      <th>pf</th>\n",
       "      <th>pts</th>\n",
       "    </tr>\n",
       "  </thead>\n",
       "  <tbody>\n",
       "    <tr>\n",
       "      <th>0</th>\n",
       "      <td>31136</td>\n",
       "      <td>2024</td>\n",
       "      <td>5025</td>\n",
       "      <td>A.J. Green</td>\n",
       "      <td>NaN</td>\n",
       "      <td>SG</td>\n",
       "      <td>24.0</td>\n",
       "      <td>2</td>\n",
       "      <td>NBA</td>\n",
       "      <td>MIL</td>\n",
       "      <td>...</td>\n",
       "      <td>0.895</td>\n",
       "      <td>9.0</td>\n",
       "      <td>55.0</td>\n",
       "      <td>64.0</td>\n",
       "      <td>30</td>\n",
       "      <td>9.0</td>\n",
       "      <td>4.0</td>\n",
       "      <td>12.0</td>\n",
       "      <td>49</td>\n",
       "      <td>252</td>\n",
       "    </tr>\n",
       "    <tr>\n",
       "      <th>1</th>\n",
       "      <td>31137</td>\n",
       "      <td>2024</td>\n",
       "      <td>5026</td>\n",
       "      <td>A.J. Lawson</td>\n",
       "      <td>NaN</td>\n",
       "      <td>SG</td>\n",
       "      <td>23.0</td>\n",
       "      <td>2</td>\n",
       "      <td>NBA</td>\n",
       "      <td>DAL</td>\n",
       "      <td>...</td>\n",
       "      <td>0.652</td>\n",
       "      <td>14.0</td>\n",
       "      <td>36.0</td>\n",
       "      <td>50.0</td>\n",
       "      <td>20</td>\n",
       "      <td>10.0</td>\n",
       "      <td>3.0</td>\n",
       "      <td>14.0</td>\n",
       "      <td>22</td>\n",
       "      <td>136</td>\n",
       "    </tr>\n",
       "    <tr>\n",
       "      <th>2</th>\n",
       "      <td>31138</td>\n",
       "      <td>2024</td>\n",
       "      <td>5027</td>\n",
       "      <td>AJ Griffin</td>\n",
       "      <td>NaN</td>\n",
       "      <td>SF</td>\n",
       "      <td>20.0</td>\n",
       "      <td>2</td>\n",
       "      <td>NBA</td>\n",
       "      <td>ATL</td>\n",
       "      <td>...</td>\n",
       "      <td>1.000</td>\n",
       "      <td>2.0</td>\n",
       "      <td>16.0</td>\n",
       "      <td>18.0</td>\n",
       "      <td>5</td>\n",
       "      <td>1.0</td>\n",
       "      <td>2.0</td>\n",
       "      <td>8.0</td>\n",
       "      <td>6</td>\n",
       "      <td>48</td>\n",
       "    </tr>\n",
       "    <tr>\n",
       "      <th>3</th>\n",
       "      <td>31139</td>\n",
       "      <td>2024</td>\n",
       "      <td>4219</td>\n",
       "      <td>Aaron Gordon</td>\n",
       "      <td>NaN</td>\n",
       "      <td>PF</td>\n",
       "      <td>28.0</td>\n",
       "      <td>10</td>\n",
       "      <td>NBA</td>\n",
       "      <td>DEN</td>\n",
       "      <td>...</td>\n",
       "      <td>0.658</td>\n",
       "      <td>174.0</td>\n",
       "      <td>297.0</td>\n",
       "      <td>471.0</td>\n",
       "      <td>259</td>\n",
       "      <td>56.0</td>\n",
       "      <td>45.0</td>\n",
       "      <td>105.0</td>\n",
       "      <td>142</td>\n",
       "      <td>1013</td>\n",
       "    </tr>\n",
       "    <tr>\n",
       "      <th>4</th>\n",
       "      <td>31140</td>\n",
       "      <td>2024</td>\n",
       "      <td>4582</td>\n",
       "      <td>Aaron Holiday</td>\n",
       "      <td>NaN</td>\n",
       "      <td>PG</td>\n",
       "      <td>27.0</td>\n",
       "      <td>6</td>\n",
       "      <td>NBA</td>\n",
       "      <td>HOU</td>\n",
       "      <td>...</td>\n",
       "      <td>0.921</td>\n",
       "      <td>23.0</td>\n",
       "      <td>100.0</td>\n",
       "      <td>123.0</td>\n",
       "      <td>140</td>\n",
       "      <td>42.0</td>\n",
       "      <td>6.0</td>\n",
       "      <td>53.0</td>\n",
       "      <td>125</td>\n",
       "      <td>514</td>\n",
       "    </tr>\n",
       "  </tbody>\n",
       "</table>\n",
       "<p>5 rows × 35 columns</p>\n",
       "</div>"
      ],
      "text/plain": [
       "   seas_id  season  player_id         player  birth_year pos   age  \\\n",
       "0    31136    2024       5025     A.J. Green         NaN  SG  24.0   \n",
       "1    31137    2024       5026    A.J. Lawson         NaN  SG  23.0   \n",
       "2    31138    2024       5027     AJ Griffin         NaN  SF  20.0   \n",
       "3    31139    2024       4219   Aaron Gordon         NaN  PF  28.0   \n",
       "4    31140    2024       4582  Aaron Holiday         NaN  PG  27.0   \n",
       "\n",
       "   experience   lg   tm  ...  ft_percent    orb    drb    trb  ast   stl  \\\n",
       "0           2  NBA  MIL  ...       0.895    9.0   55.0   64.0   30   9.0   \n",
       "1           2  NBA  DAL  ...       0.652   14.0   36.0   50.0   20  10.0   \n",
       "2           2  NBA  ATL  ...       1.000    2.0   16.0   18.0    5   1.0   \n",
       "3          10  NBA  DEN  ...       0.658  174.0  297.0  471.0  259  56.0   \n",
       "4           6  NBA  HOU  ...       0.921   23.0  100.0  123.0  140  42.0   \n",
       "\n",
       "    blk    tov   pf   pts  \n",
       "0   4.0   12.0   49   252  \n",
       "1   3.0   14.0   22   136  \n",
       "2   2.0    8.0    6    48  \n",
       "3  45.0  105.0  142  1013  \n",
       "4   6.0   53.0  125   514  \n",
       "\n",
       "[5 rows x 35 columns]"
      ]
     },
     "execution_count": 219,
     "metadata": {},
     "output_type": "execute_result"
    }
   ],
   "source": [
    "## Observo las primeras 5 filas para ver un poco los datos.\n",
    "df_player_totals.head()"
   ]
  },
  {
   "cell_type": "code",
   "execution_count": 220,
   "metadata": {},
   "outputs": [
    {
     "data": {
      "text/plain": [
       "Index(['seas_id', 'season', 'player_id', 'player', 'birth_year', 'pos', 'age',\n",
       "       'experience', 'lg', 'tm', 'g', 'gs', 'mp', 'fg', 'fga', 'fg_percent',\n",
       "       'x3p', 'x3pa', 'x3p_percent', 'x2p', 'x2pa', 'x2p_percent',\n",
       "       'e_fg_percent', 'ft', 'fta', 'ft_percent', 'orb', 'drb', 'trb', 'ast',\n",
       "       'stl', 'blk', 'tov', 'pf', 'pts'],\n",
       "      dtype='object')"
      ]
     },
     "execution_count": 220,
     "metadata": {},
     "output_type": "execute_result"
    }
   ],
   "source": [
    "## Veo los nombres de las diferentes columnas que hay en el dataframe.\n",
    "df_player_totals.columns"
   ]
  },
  {
   "cell_type": "code",
   "execution_count": 221,
   "metadata": {},
   "outputs": [],
   "source": [
    "## Elimino las filas las cuales no me sirven para este análisis.\n",
    "df_player_totals.drop(['seas_id','birth_year','gs'],axis=1,inplace=True)"
   ]
  },
  {
   "cell_type": "markdown",
   "metadata": {},
   "source": [
    "Ya con estos pocos pasos de limpieza de datos vamos a fijarnos cuantas ligas hay en este dataframe. Esto se logra llamando a la columna de liga \"lg\" y utilizando la funcion \".value_counts()\".\n",
    "Esto nos dice que hay 3 ligas en este dataframe, por lo que vamos a crear un nuevo dataframe filtrado por la liga que nos interesa, en este caso sería la NBA."
   ]
  },
  {
   "cell_type": "code",
   "execution_count": 222,
   "metadata": {},
   "outputs": [
    {
     "data": {
      "text/plain": [
       "lg\n",
       "NBA    29650\n",
       "ABA     1638\n",
       "BAA      582\n",
       "Name: count, dtype: int64"
      ]
     },
     "execution_count": 222,
     "metadata": {},
     "output_type": "execute_result"
    }
   ],
   "source": [
    "## Me fijo cuantos datos diferentes hay en la columna 'lg'.\n",
    "df_player_totals['lg'].value_counts()"
   ]
  },
  {
   "cell_type": "code",
   "execution_count": 223,
   "metadata": {},
   "outputs": [],
   "source": [
    "## Creo un nuevo dataframe filtrando el anterior por los jugadores que jueguen o jugaban en la NBA.\n",
    "df_player_totals_nba=df_player_totals[df_player_totals['lg']=='NBA']"
   ]
  },
  {
   "cell_type": "markdown",
   "metadata": {},
   "source": [
    "Luego de haber filtrado por la liga que queremos analizar, vamos a hacer una breve limpieza de datos por las dudas haya algún dato duplicado, por lo que vamos a llamar a la funcion \"drop?duplicates()\" donde nos va a eliminar las filas duplicadas y se va a quedar con una de ellas."
   ]
  },
  {
   "cell_type": "code",
   "execution_count": 224,
   "metadata": {},
   "outputs": [
    {
     "name": "stderr",
     "output_type": "stream",
     "text": [
      "C:\\Users\\mateo\\AppData\\Local\\Temp\\ipykernel_11564\\4146507471.py:2: SettingWithCopyWarning: \n",
      "A value is trying to be set on a copy of a slice from a DataFrame\n",
      "\n",
      "See the caveats in the documentation: https://pandas.pydata.org/pandas-docs/stable/user_guide/indexing.html#returning-a-view-versus-a-copy\n",
      "  df_player_totals_nba.drop_duplicates(inplace=True)\n"
     ]
    }
   ],
   "source": [
    "## Elimino datos duplicados dentro del nuevo dataframe.\n",
    "df_player_totals_nba.drop_duplicates(inplace=True)"
   ]
  },
  {
   "cell_type": "markdown",
   "metadata": {},
   "source": [
    "Con \"shape\" vemos que no había datos duplicados, ya que cuando usamos la función \"value_counts()\" pudimos ver que había 29650 filas con el valor \"NBA\" en la columna \"lg\"(la misma cantidad de filas que hay en este nuevo dataframe filtrado)."
   ]
  },
  {
   "cell_type": "code",
   "execution_count": 225,
   "metadata": {},
   "outputs": [
    {
     "data": {
      "text/plain": [
       "(29650, 32)"
      ]
     },
     "execution_count": 225,
     "metadata": {},
     "output_type": "execute_result"
    }
   ],
   "source": [
    "## Me fijo cuantas filas y columnas me quedaron.\n",
    "df_player_totals_nba.shape"
   ]
  },
  {
   "cell_type": "code",
   "execution_count": 226,
   "metadata": {},
   "outputs": [
    {
     "data": {
      "text/html": [
       "<div>\n",
       "<style scoped>\n",
       "    .dataframe tbody tr th:only-of-type {\n",
       "        vertical-align: middle;\n",
       "    }\n",
       "\n",
       "    .dataframe tbody tr th {\n",
       "        vertical-align: top;\n",
       "    }\n",
       "\n",
       "    .dataframe thead th {\n",
       "        text-align: right;\n",
       "    }\n",
       "</style>\n",
       "<table border=\"1\" class=\"dataframe\">\n",
       "  <thead>\n",
       "    <tr style=\"text-align: right;\">\n",
       "      <th></th>\n",
       "      <th>season</th>\n",
       "      <th>player_id</th>\n",
       "      <th>player</th>\n",
       "      <th>pos</th>\n",
       "      <th>age</th>\n",
       "      <th>experience</th>\n",
       "      <th>lg</th>\n",
       "      <th>tm</th>\n",
       "      <th>g</th>\n",
       "      <th>mp</th>\n",
       "      <th>...</th>\n",
       "      <th>ft_percent</th>\n",
       "      <th>orb</th>\n",
       "      <th>drb</th>\n",
       "      <th>trb</th>\n",
       "      <th>ast</th>\n",
       "      <th>stl</th>\n",
       "      <th>blk</th>\n",
       "      <th>tov</th>\n",
       "      <th>pf</th>\n",
       "      <th>pts</th>\n",
       "    </tr>\n",
       "  </thead>\n",
       "  <tbody>\n",
       "    <tr>\n",
       "      <th>0</th>\n",
       "      <td>2024</td>\n",
       "      <td>5025</td>\n",
       "      <td>A.J. Green</td>\n",
       "      <td>SG</td>\n",
       "      <td>24.0</td>\n",
       "      <td>2</td>\n",
       "      <td>NBA</td>\n",
       "      <td>MIL</td>\n",
       "      <td>56</td>\n",
       "      <td>614.0</td>\n",
       "      <td>...</td>\n",
       "      <td>0.895</td>\n",
       "      <td>9.0</td>\n",
       "      <td>55.0</td>\n",
       "      <td>64.0</td>\n",
       "      <td>30</td>\n",
       "      <td>9.0</td>\n",
       "      <td>4.0</td>\n",
       "      <td>12.0</td>\n",
       "      <td>49</td>\n",
       "      <td>252</td>\n",
       "    </tr>\n",
       "    <tr>\n",
       "      <th>1</th>\n",
       "      <td>2024</td>\n",
       "      <td>5026</td>\n",
       "      <td>A.J. Lawson</td>\n",
       "      <td>SG</td>\n",
       "      <td>23.0</td>\n",
       "      <td>2</td>\n",
       "      <td>NBA</td>\n",
       "      <td>DAL</td>\n",
       "      <td>42</td>\n",
       "      <td>311.0</td>\n",
       "      <td>...</td>\n",
       "      <td>0.652</td>\n",
       "      <td>14.0</td>\n",
       "      <td>36.0</td>\n",
       "      <td>50.0</td>\n",
       "      <td>20</td>\n",
       "      <td>10.0</td>\n",
       "      <td>3.0</td>\n",
       "      <td>14.0</td>\n",
       "      <td>22</td>\n",
       "      <td>136</td>\n",
       "    </tr>\n",
       "    <tr>\n",
       "      <th>2</th>\n",
       "      <td>2024</td>\n",
       "      <td>5027</td>\n",
       "      <td>AJ Griffin</td>\n",
       "      <td>SF</td>\n",
       "      <td>20.0</td>\n",
       "      <td>2</td>\n",
       "      <td>NBA</td>\n",
       "      <td>ATL</td>\n",
       "      <td>20</td>\n",
       "      <td>171.0</td>\n",
       "      <td>...</td>\n",
       "      <td>1.000</td>\n",
       "      <td>2.0</td>\n",
       "      <td>16.0</td>\n",
       "      <td>18.0</td>\n",
       "      <td>5</td>\n",
       "      <td>1.0</td>\n",
       "      <td>2.0</td>\n",
       "      <td>8.0</td>\n",
       "      <td>6</td>\n",
       "      <td>48</td>\n",
       "    </tr>\n",
       "    <tr>\n",
       "      <th>3</th>\n",
       "      <td>2024</td>\n",
       "      <td>4219</td>\n",
       "      <td>Aaron Gordon</td>\n",
       "      <td>PF</td>\n",
       "      <td>28.0</td>\n",
       "      <td>10</td>\n",
       "      <td>NBA</td>\n",
       "      <td>DEN</td>\n",
       "      <td>73</td>\n",
       "      <td>2297.0</td>\n",
       "      <td>...</td>\n",
       "      <td>0.658</td>\n",
       "      <td>174.0</td>\n",
       "      <td>297.0</td>\n",
       "      <td>471.0</td>\n",
       "      <td>259</td>\n",
       "      <td>56.0</td>\n",
       "      <td>45.0</td>\n",
       "      <td>105.0</td>\n",
       "      <td>142</td>\n",
       "      <td>1013</td>\n",
       "    </tr>\n",
       "    <tr>\n",
       "      <th>4</th>\n",
       "      <td>2024</td>\n",
       "      <td>4582</td>\n",
       "      <td>Aaron Holiday</td>\n",
       "      <td>PG</td>\n",
       "      <td>27.0</td>\n",
       "      <td>6</td>\n",
       "      <td>NBA</td>\n",
       "      <td>HOU</td>\n",
       "      <td>78</td>\n",
       "      <td>1269.0</td>\n",
       "      <td>...</td>\n",
       "      <td>0.921</td>\n",
       "      <td>23.0</td>\n",
       "      <td>100.0</td>\n",
       "      <td>123.0</td>\n",
       "      <td>140</td>\n",
       "      <td>42.0</td>\n",
       "      <td>6.0</td>\n",
       "      <td>53.0</td>\n",
       "      <td>125</td>\n",
       "      <td>514</td>\n",
       "    </tr>\n",
       "  </tbody>\n",
       "</table>\n",
       "<p>5 rows × 32 columns</p>\n",
       "</div>"
      ],
      "text/plain": [
       "   season  player_id         player pos   age  experience   lg   tm   g  \\\n",
       "0    2024       5025     A.J. Green  SG  24.0           2  NBA  MIL  56   \n",
       "1    2024       5026    A.J. Lawson  SG  23.0           2  NBA  DAL  42   \n",
       "2    2024       5027     AJ Griffin  SF  20.0           2  NBA  ATL  20   \n",
       "3    2024       4219   Aaron Gordon  PF  28.0          10  NBA  DEN  73   \n",
       "4    2024       4582  Aaron Holiday  PG  27.0           6  NBA  HOU  78   \n",
       "\n",
       "       mp  ...  ft_percent    orb    drb    trb  ast   stl   blk    tov   pf  \\\n",
       "0   614.0  ...       0.895    9.0   55.0   64.0   30   9.0   4.0   12.0   49   \n",
       "1   311.0  ...       0.652   14.0   36.0   50.0   20  10.0   3.0   14.0   22   \n",
       "2   171.0  ...       1.000    2.0   16.0   18.0    5   1.0   2.0    8.0    6   \n",
       "3  2297.0  ...       0.658  174.0  297.0  471.0  259  56.0  45.0  105.0  142   \n",
       "4  1269.0  ...       0.921   23.0  100.0  123.0  140  42.0   6.0   53.0  125   \n",
       "\n",
       "    pts  \n",
       "0   252  \n",
       "1   136  \n",
       "2    48  \n",
       "3  1013  \n",
       "4   514  \n",
       "\n",
       "[5 rows x 32 columns]"
      ]
     },
     "execution_count": 226,
     "metadata": {},
     "output_type": "execute_result"
    }
   ],
   "source": [
    "## Observo las primeras 5 filas del dataframe filtrado.\n",
    "df_player_totals_nba.head()"
   ]
  },
  {
   "cell_type": "markdown",
   "metadata": {},
   "source": [
    "A continuación, creamos un nuevo dataframe agrupado por año, teniendo la suma de las métricas básicas, como por ejemplo pueden ser los puntos, las asistencias, los minutos jugados, entre otros, y además, teniendo la media de los porcentajes, como por ejemplo la media de los porcentajes de tiro de 3 puntos. "
   ]
  },
  {
   "cell_type": "code",
   "execution_count": 227,
   "metadata": {},
   "outputs": [],
   "source": [
    "## Creo un nuevo dataframe agrupado por jugador, quedándome con la suma de sus estadísticas más normales(pts, ast, etc.)\n",
    "## y quedándome con los promedios de los porcentajes.\n",
    "df_agrupado_x_temporada=df_player_totals_nba.groupby('season').agg({\n",
    "    'g': 'sum',\n",
    "    'mp': 'sum',\n",
    "    'fg': 'sum',\n",
    "    'fga': 'sum',\n",
    "    'fg_percent': 'mean',\n",
    "    'x3p': 'sum',\n",
    "    'x3pa': 'sum',\n",
    "    'x3p_percent': 'mean',\n",
    "    'ft': 'sum',\n",
    "    'fta': 'sum',\n",
    "    'ft_percent': 'mean',\n",
    "    'orb': 'sum',\n",
    "    'drb': 'sum',\n",
    "    'trb': 'sum',\n",
    "    'ast': 'sum',\n",
    "    'stl': 'sum',\n",
    "    'blk': 'sum',\n",
    "    'tov': 'sum',\n",
    "    'pf': 'sum',\n",
    "    'pts': 'sum'\n",
    "}).reset_index()"
   ]
  },
  {
   "cell_type": "markdown",
   "metadata": {},
   "source": [
    "Exploramos un poco el nuevo Dataframe para ver que esté todo en orden, y vemos que al usar la función \"info()\" nos damos cuenta que la columna del porcentaje de triples tiene nulos, esto se debe a que el dataframe tiene temporadas anteriores a cuando se implementó la linea de 3 puntos en la NBA. Por lo que me tomé el atrevimiento de cambiar los valores nulos por 0."
   ]
  },
  {
   "cell_type": "code",
   "execution_count": 228,
   "metadata": {},
   "outputs": [
    {
     "data": {
      "text/html": [
       "<div>\n",
       "<style scoped>\n",
       "    .dataframe tbody tr th:only-of-type {\n",
       "        vertical-align: middle;\n",
       "    }\n",
       "\n",
       "    .dataframe tbody tr th {\n",
       "        vertical-align: top;\n",
       "    }\n",
       "\n",
       "    .dataframe thead th {\n",
       "        text-align: right;\n",
       "    }\n",
       "</style>\n",
       "<table border=\"1\" class=\"dataframe\">\n",
       "  <thead>\n",
       "    <tr style=\"text-align: right;\">\n",
       "      <th></th>\n",
       "      <th>season</th>\n",
       "      <th>g</th>\n",
       "      <th>mp</th>\n",
       "      <th>fg</th>\n",
       "      <th>fga</th>\n",
       "      <th>fg_percent</th>\n",
       "      <th>x3p</th>\n",
       "      <th>x3pa</th>\n",
       "      <th>x3p_percent</th>\n",
       "      <th>ft</th>\n",
       "      <th>...</th>\n",
       "      <th>ft_percent</th>\n",
       "      <th>orb</th>\n",
       "      <th>drb</th>\n",
       "      <th>trb</th>\n",
       "      <th>ast</th>\n",
       "      <th>stl</th>\n",
       "      <th>blk</th>\n",
       "      <th>tov</th>\n",
       "      <th>pf</th>\n",
       "      <th>pts</th>\n",
       "    </tr>\n",
       "  </thead>\n",
       "  <tbody>\n",
       "    <tr>\n",
       "      <th>0</th>\n",
       "      <td>1950</td>\n",
       "      <td>13380</td>\n",
       "      <td>0.0</td>\n",
       "      <td>36436</td>\n",
       "      <td>108515</td>\n",
       "      <td>0.318109</td>\n",
       "      <td>0.0</td>\n",
       "      <td>0.0</td>\n",
       "      <td>NaN</td>\n",
       "      <td>30690</td>\n",
       "      <td>...</td>\n",
       "      <td>0.683685</td>\n",
       "      <td>0.0</td>\n",
       "      <td>0.0</td>\n",
       "      <td>0.0</td>\n",
       "      <td>25496</td>\n",
       "      <td>0.0</td>\n",
       "      <td>0.0</td>\n",
       "      <td>0.0</td>\n",
       "      <td>35877</td>\n",
       "      <td>103562</td>\n",
       "    </tr>\n",
       "    <tr>\n",
       "      <th>1</th>\n",
       "      <td>1951</td>\n",
       "      <td>8092</td>\n",
       "      <td>0.0</td>\n",
       "      <td>24622</td>\n",
       "      <td>69509</td>\n",
       "      <td>0.332085</td>\n",
       "      <td>0.0</td>\n",
       "      <td>0.0</td>\n",
       "      <td>NaN</td>\n",
       "      <td>20061</td>\n",
       "      <td>...</td>\n",
       "      <td>0.702043</td>\n",
       "      <td>0.0</td>\n",
       "      <td>0.0</td>\n",
       "      <td>38508.0</td>\n",
       "      <td>17102</td>\n",
       "      <td>0.0</td>\n",
       "      <td>0.0</td>\n",
       "      <td>0.0</td>\n",
       "      <td>22849</td>\n",
       "      <td>69305</td>\n",
       "    </tr>\n",
       "    <tr>\n",
       "      <th>2</th>\n",
       "      <td>1952</td>\n",
       "      <td>6612</td>\n",
       "      <td>172005.0</td>\n",
       "      <td>20921</td>\n",
       "      <td>57352</td>\n",
       "      <td>0.343971</td>\n",
       "      <td>0.0</td>\n",
       "      <td>0.0</td>\n",
       "      <td>NaN</td>\n",
       "      <td>17291</td>\n",
       "      <td>...</td>\n",
       "      <td>0.690603</td>\n",
       "      <td>0.0</td>\n",
       "      <td>0.0</td>\n",
       "      <td>33945.0</td>\n",
       "      <td>15405</td>\n",
       "      <td>0.0</td>\n",
       "      <td>0.0</td>\n",
       "      <td>0.0</td>\n",
       "      <td>19287</td>\n",
       "      <td>59133</td>\n",
       "    </tr>\n",
       "    <tr>\n",
       "      <th>3</th>\n",
       "      <td>1953</td>\n",
       "      <td>7386</td>\n",
       "      <td>194943.0</td>\n",
       "      <td>22432</td>\n",
       "      <td>61096</td>\n",
       "      <td>0.337475</td>\n",
       "      <td>0.0</td>\n",
       "      <td>0.0</td>\n",
       "      <td>NaN</td>\n",
       "      <td>20214</td>\n",
       "      <td>...</td>\n",
       "      <td>0.702360</td>\n",
       "      <td>0.0</td>\n",
       "      <td>0.0</td>\n",
       "      <td>36854.0</td>\n",
       "      <td>16766</td>\n",
       "      <td>0.0</td>\n",
       "      <td>0.0</td>\n",
       "      <td>0.0</td>\n",
       "      <td>22984</td>\n",
       "      <td>65078</td>\n",
       "    </tr>\n",
       "    <tr>\n",
       "      <th>4</th>\n",
       "      <td>1954</td>\n",
       "      <td>6679</td>\n",
       "      <td>171149.0</td>\n",
       "      <td>19852</td>\n",
       "      <td>53560</td>\n",
       "      <td>0.341582</td>\n",
       "      <td>0.0</td>\n",
       "      <td>0.0</td>\n",
       "      <td>NaN</td>\n",
       "      <td>16448</td>\n",
       "      <td>...</td>\n",
       "      <td>0.680603</td>\n",
       "      <td>0.0</td>\n",
       "      <td>0.0</td>\n",
       "      <td>33287.0</td>\n",
       "      <td>14342</td>\n",
       "      <td>0.0</td>\n",
       "      <td>0.0</td>\n",
       "      <td>0.0</td>\n",
       "      <td>18208</td>\n",
       "      <td>56152</td>\n",
       "    </tr>\n",
       "  </tbody>\n",
       "</table>\n",
       "<p>5 rows × 21 columns</p>\n",
       "</div>"
      ],
      "text/plain": [
       "   season      g        mp     fg     fga  fg_percent  x3p  x3pa  x3p_percent  \\\n",
       "0    1950  13380       0.0  36436  108515    0.318109  0.0   0.0          NaN   \n",
       "1    1951   8092       0.0  24622   69509    0.332085  0.0   0.0          NaN   \n",
       "2    1952   6612  172005.0  20921   57352    0.343971  0.0   0.0          NaN   \n",
       "3    1953   7386  194943.0  22432   61096    0.337475  0.0   0.0          NaN   \n",
       "4    1954   6679  171149.0  19852   53560    0.341582  0.0   0.0          NaN   \n",
       "\n",
       "      ft  ...  ft_percent  orb  drb      trb    ast  stl  blk  tov     pf  \\\n",
       "0  30690  ...    0.683685  0.0  0.0      0.0  25496  0.0  0.0  0.0  35877   \n",
       "1  20061  ...    0.702043  0.0  0.0  38508.0  17102  0.0  0.0  0.0  22849   \n",
       "2  17291  ...    0.690603  0.0  0.0  33945.0  15405  0.0  0.0  0.0  19287   \n",
       "3  20214  ...    0.702360  0.0  0.0  36854.0  16766  0.0  0.0  0.0  22984   \n",
       "4  16448  ...    0.680603  0.0  0.0  33287.0  14342  0.0  0.0  0.0  18208   \n",
       "\n",
       "      pts  \n",
       "0  103562  \n",
       "1   69305  \n",
       "2   59133  \n",
       "3   65078  \n",
       "4   56152  \n",
       "\n",
       "[5 rows x 21 columns]"
      ]
     },
     "execution_count": 228,
     "metadata": {},
     "output_type": "execute_result"
    }
   ],
   "source": [
    "## Observo las primeras 5 filas del nuevo dataframe para ver si todo está bien.\n",
    "df_agrupado_x_temporada.head()"
   ]
  },
  {
   "cell_type": "code",
   "execution_count": 229,
   "metadata": {},
   "outputs": [
    {
     "data": {
      "text/plain": [
       "(75, 21)"
      ]
     },
     "execution_count": 229,
     "metadata": {},
     "output_type": "execute_result"
    }
   ],
   "source": [
    "## Me fijo las filas y las columnas de este nuevo dataframe.\n",
    "df_agrupado_x_temporada.shape"
   ]
  },
  {
   "cell_type": "code",
   "execution_count": 230,
   "metadata": {},
   "outputs": [
    {
     "data": {
      "text/plain": [
       "Index(['season', 'g', 'mp', 'fg', 'fga', 'fg_percent', 'x3p', 'x3pa',\n",
       "       'x3p_percent', 'ft', 'fta', 'ft_percent', 'orb', 'drb', 'trb', 'ast',\n",
       "       'stl', 'blk', 'tov', 'pf', 'pts'],\n",
       "      dtype='object')"
      ]
     },
     "execution_count": 230,
     "metadata": {},
     "output_type": "execute_result"
    }
   ],
   "source": [
    "## Veo los nombres de las columnas.\n",
    "df_agrupado_x_temporada.columns"
   ]
  },
  {
   "cell_type": "code",
   "execution_count": 231,
   "metadata": {},
   "outputs": [
    {
     "name": "stdout",
     "output_type": "stream",
     "text": [
      "<class 'pandas.core.frame.DataFrame'>\n",
      "RangeIndex: 75 entries, 0 to 74\n",
      "Data columns (total 21 columns):\n",
      " #   Column       Non-Null Count  Dtype  \n",
      "---  ------       --------------  -----  \n",
      " 0   season       75 non-null     int64  \n",
      " 1   g            75 non-null     int64  \n",
      " 2   mp           75 non-null     float64\n",
      " 3   fg           75 non-null     int64  \n",
      " 4   fga          75 non-null     int64  \n",
      " 5   fg_percent   75 non-null     float64\n",
      " 6   x3p          75 non-null     float64\n",
      " 7   x3pa         75 non-null     float64\n",
      " 8   x3p_percent  45 non-null     float64\n",
      " 9   ft           75 non-null     int64  \n",
      " 10  fta          75 non-null     int64  \n",
      " 11  ft_percent   75 non-null     float64\n",
      " 12  orb          75 non-null     float64\n",
      " 13  drb          75 non-null     float64\n",
      " 14  trb          75 non-null     float64\n",
      " 15  ast          75 non-null     int64  \n",
      " 16  stl          75 non-null     float64\n",
      " 17  blk          75 non-null     float64\n",
      " 18  tov          75 non-null     float64\n",
      " 19  pf           75 non-null     int64  \n",
      " 20  pts          75 non-null     int64  \n",
      "dtypes: float64(12), int64(9)\n",
      "memory usage: 12.4 KB\n"
     ]
    }
   ],
   "source": [
    "## Me informo del dataframe, viendo si hay datos nulos y de que tipo es cada columna.\n",
    "df_agrupado_x_temporada.info()"
   ]
  },
  {
   "cell_type": "code",
   "execution_count": 232,
   "metadata": {},
   "outputs": [
    {
     "name": "stderr",
     "output_type": "stream",
     "text": [
      "C:\\Users\\mateo\\AppData\\Local\\Temp\\ipykernel_11564\\3307091084.py:2: FutureWarning: A value is trying to be set on a copy of a DataFrame or Series through chained assignment using an inplace method.\n",
      "The behavior will change in pandas 3.0. This inplace method will never work because the intermediate object on which we are setting values always behaves as a copy.\n",
      "\n",
      "For example, when doing 'df[col].method(value, inplace=True)', try using 'df.method({col: value}, inplace=True)' or df[col] = df[col].method(value) instead, to perform the operation inplace on the original object.\n",
      "\n",
      "\n",
      "  df_agrupado_x_temporada['x3p_percent'].fillna(0,inplace=True)\n"
     ]
    }
   ],
   "source": [
    "## Tomo la decisión de que a las columnas que tienen datos nulos, les reemplazo los nulos por su media.\n",
    "df_agrupado_x_temporada['x3p_percent'].fillna(0,inplace=True)"
   ]
  },
  {
   "cell_type": "code",
   "execution_count": 233,
   "metadata": {},
   "outputs": [
    {
     "name": "stdout",
     "output_type": "stream",
     "text": [
      "<class 'pandas.core.frame.DataFrame'>\n",
      "RangeIndex: 75 entries, 0 to 74\n",
      "Data columns (total 21 columns):\n",
      " #   Column       Non-Null Count  Dtype  \n",
      "---  ------       --------------  -----  \n",
      " 0   season       75 non-null     int64  \n",
      " 1   g            75 non-null     int64  \n",
      " 2   mp           75 non-null     float64\n",
      " 3   fg           75 non-null     int64  \n",
      " 4   fga          75 non-null     int64  \n",
      " 5   fg_percent   75 non-null     float64\n",
      " 6   x3p          75 non-null     float64\n",
      " 7   x3pa         75 non-null     float64\n",
      " 8   x3p_percent  75 non-null     float64\n",
      " 9   ft           75 non-null     int64  \n",
      " 10  fta          75 non-null     int64  \n",
      " 11  ft_percent   75 non-null     float64\n",
      " 12  orb          75 non-null     float64\n",
      " 13  drb          75 non-null     float64\n",
      " 14  trb          75 non-null     float64\n",
      " 15  ast          75 non-null     int64  \n",
      " 16  stl          75 non-null     float64\n",
      " 17  blk          75 non-null     float64\n",
      " 18  tov          75 non-null     float64\n",
      " 19  pf           75 non-null     int64  \n",
      " 20  pts          75 non-null     int64  \n",
      "dtypes: float64(12), int64(9)\n",
      "memory usage: 12.4 KB\n"
     ]
    }
   ],
   "source": [
    "## Me fijo si todas las columnas ya no tienen nulos.\n",
    "df_agrupado_x_temporada.info()"
   ]
  },
  {
   "cell_type": "markdown",
   "metadata": {},
   "source": [
    "Luego de tener todo el dataframe sin nulos, podemos crear algunas métricas avanzadas como la eficiencia de tiros reales(%TS), la eficiencia ofensiva individual(ORtg) y la eficiencia en tiros de campo efectiva(FGe%).\n",
    "\n",
    "* %TS: La eficiencia global en la anotación, teniendo en cuenta canastas de campo, tiros de tres puntos y tiros libres. Es una medida completa del rendimiento en anotación. Un TS% alto indica que el jugador convierte sus oportunidades de tiro de manera eficiente, independientemente del tipo de lanzamiento.\n",
    "\n",
    "* FGe%: La eficiencia en tiros de campo ajustada por el valor extra del tiro de tres puntos (al contabilizar su mayor valor en puntos). Una eFG% alta refleja una mayor calidad en las oportunidades de tiro, especialmente si se aprovechan bien los tiros de tres."
   ]
  },
  {
   "cell_type": "code",
   "execution_count": 234,
   "metadata": {},
   "outputs": [],
   "source": [
    "## Creo la métrica de 'True Shooting %', que es la eficiencia de tiros reales.\n",
    "df_agrupado_x_temporada['%TS']=df_agrupado_x_temporada['pts']/(2*(df_agrupado_x_temporada['fga']+0.44*df_agrupado_x_temporada['fta']))"
   ]
  },
  {
   "cell_type": "code",
   "execution_count": 235,
   "metadata": {},
   "outputs": [],
   "source": [
    "## Creo la métrica que mide la eficiencia de tiros de campo efectiva.\n",
    "df_agrupado_x_temporada['FGe%']=(df_agrupado_x_temporada['fg']+0.5*df_agrupado_x_temporada['x3p'])/df_agrupado_x_temporada['fga']"
   ]
  },
  {
   "cell_type": "code",
   "execution_count": 236,
   "metadata": {},
   "outputs": [],
   "source": [
    "df_agrupado_x_temporada.rename(columns={'x3p_percent':'%3p','fg_percent':'fg%','ft_percent':'ft%'},inplace=True)"
   ]
  },
  {
   "cell_type": "code",
   "execution_count": 237,
   "metadata": {},
   "outputs": [
    {
     "data": {
      "text/html": [
       "<div>\n",
       "<style scoped>\n",
       "    .dataframe tbody tr th:only-of-type {\n",
       "        vertical-align: middle;\n",
       "    }\n",
       "\n",
       "    .dataframe tbody tr th {\n",
       "        vertical-align: top;\n",
       "    }\n",
       "\n",
       "    .dataframe thead th {\n",
       "        text-align: right;\n",
       "    }\n",
       "</style>\n",
       "<table border=\"1\" class=\"dataframe\">\n",
       "  <thead>\n",
       "    <tr style=\"text-align: right;\">\n",
       "      <th></th>\n",
       "      <th>season</th>\n",
       "      <th>g</th>\n",
       "      <th>mp</th>\n",
       "      <th>fg</th>\n",
       "      <th>fga</th>\n",
       "      <th>fg%</th>\n",
       "      <th>x3p</th>\n",
       "      <th>x3pa</th>\n",
       "      <th>%3p</th>\n",
       "      <th>ft</th>\n",
       "      <th>...</th>\n",
       "      <th>drb</th>\n",
       "      <th>trb</th>\n",
       "      <th>ast</th>\n",
       "      <th>stl</th>\n",
       "      <th>blk</th>\n",
       "      <th>tov</th>\n",
       "      <th>pf</th>\n",
       "      <th>pts</th>\n",
       "      <th>%TS</th>\n",
       "      <th>FGe%</th>\n",
       "    </tr>\n",
       "  </thead>\n",
       "  <tbody>\n",
       "    <tr>\n",
       "      <th>0</th>\n",
       "      <td>1950</td>\n",
       "      <td>13380</td>\n",
       "      <td>0.0</td>\n",
       "      <td>36436</td>\n",
       "      <td>108515</td>\n",
       "      <td>0.318109</td>\n",
       "      <td>0.0</td>\n",
       "      <td>0.0</td>\n",
       "      <td>0.0</td>\n",
       "      <td>30690</td>\n",
       "      <td>...</td>\n",
       "      <td>0.0</td>\n",
       "      <td>0.0</td>\n",
       "      <td>25496</td>\n",
       "      <td>0.0</td>\n",
       "      <td>0.0</td>\n",
       "      <td>0.0</td>\n",
       "      <td>35877</td>\n",
       "      <td>103562</td>\n",
       "      <td>0.405923</td>\n",
       "      <td>0.335769</td>\n",
       "    </tr>\n",
       "    <tr>\n",
       "      <th>1</th>\n",
       "      <td>1951</td>\n",
       "      <td>8092</td>\n",
       "      <td>0.0</td>\n",
       "      <td>24622</td>\n",
       "      <td>69509</td>\n",
       "      <td>0.332085</td>\n",
       "      <td>0.0</td>\n",
       "      <td>0.0</td>\n",
       "      <td>0.0</td>\n",
       "      <td>20061</td>\n",
       "      <td>...</td>\n",
       "      <td>0.0</td>\n",
       "      <td>38508.0</td>\n",
       "      <td>17102</td>\n",
       "      <td>0.0</td>\n",
       "      <td>0.0</td>\n",
       "      <td>0.0</td>\n",
       "      <td>22849</td>\n",
       "      <td>69305</td>\n",
       "      <td>0.424896</td>\n",
       "      <td>0.354228</td>\n",
       "    </tr>\n",
       "    <tr>\n",
       "      <th>2</th>\n",
       "      <td>1952</td>\n",
       "      <td>6612</td>\n",
       "      <td>172005.0</td>\n",
       "      <td>20921</td>\n",
       "      <td>57352</td>\n",
       "      <td>0.343971</td>\n",
       "      <td>0.0</td>\n",
       "      <td>0.0</td>\n",
       "      <td>0.0</td>\n",
       "      <td>17291</td>\n",
       "      <td>...</td>\n",
       "      <td>0.0</td>\n",
       "      <td>33945.0</td>\n",
       "      <td>15405</td>\n",
       "      <td>0.0</td>\n",
       "      <td>0.0</td>\n",
       "      <td>0.0</td>\n",
       "      <td>19287</td>\n",
       "      <td>59133</td>\n",
       "      <td>0.436437</td>\n",
       "      <td>0.364782</td>\n",
       "    </tr>\n",
       "    <tr>\n",
       "      <th>3</th>\n",
       "      <td>1953</td>\n",
       "      <td>7386</td>\n",
       "      <td>194943.0</td>\n",
       "      <td>22432</td>\n",
       "      <td>61096</td>\n",
       "      <td>0.337475</td>\n",
       "      <td>0.0</td>\n",
       "      <td>0.0</td>\n",
       "      <td>0.0</td>\n",
       "      <td>20214</td>\n",
       "      <td>...</td>\n",
       "      <td>0.0</td>\n",
       "      <td>36854.0</td>\n",
       "      <td>16766</td>\n",
       "      <td>0.0</td>\n",
       "      <td>0.0</td>\n",
       "      <td>0.0</td>\n",
       "      <td>22984</td>\n",
       "      <td>65078</td>\n",
       "      <td>0.442577</td>\n",
       "      <td>0.367160</td>\n",
       "    </tr>\n",
       "    <tr>\n",
       "      <th>4</th>\n",
       "      <td>1954</td>\n",
       "      <td>6679</td>\n",
       "      <td>171149.0</td>\n",
       "      <td>19852</td>\n",
       "      <td>53560</td>\n",
       "      <td>0.341582</td>\n",
       "      <td>0.0</td>\n",
       "      <td>0.0</td>\n",
       "      <td>0.0</td>\n",
       "      <td>16448</td>\n",
       "      <td>...</td>\n",
       "      <td>0.0</td>\n",
       "      <td>33287.0</td>\n",
       "      <td>14342</td>\n",
       "      <td>0.0</td>\n",
       "      <td>0.0</td>\n",
       "      <td>0.0</td>\n",
       "      <td>18208</td>\n",
       "      <td>56152</td>\n",
       "      <td>0.440211</td>\n",
       "      <td>0.370650</td>\n",
       "    </tr>\n",
       "  </tbody>\n",
       "</table>\n",
       "<p>5 rows × 23 columns</p>\n",
       "</div>"
      ],
      "text/plain": [
       "   season      g        mp     fg     fga       fg%  x3p  x3pa  %3p     ft  \\\n",
       "0    1950  13380       0.0  36436  108515  0.318109  0.0   0.0  0.0  30690   \n",
       "1    1951   8092       0.0  24622   69509  0.332085  0.0   0.0  0.0  20061   \n",
       "2    1952   6612  172005.0  20921   57352  0.343971  0.0   0.0  0.0  17291   \n",
       "3    1953   7386  194943.0  22432   61096  0.337475  0.0   0.0  0.0  20214   \n",
       "4    1954   6679  171149.0  19852   53560  0.341582  0.0   0.0  0.0  16448   \n",
       "\n",
       "   ...  drb      trb    ast  stl  blk  tov     pf     pts       %TS      FGe%  \n",
       "0  ...  0.0      0.0  25496  0.0  0.0  0.0  35877  103562  0.405923  0.335769  \n",
       "1  ...  0.0  38508.0  17102  0.0  0.0  0.0  22849   69305  0.424896  0.354228  \n",
       "2  ...  0.0  33945.0  15405  0.0  0.0  0.0  19287   59133  0.436437  0.364782  \n",
       "3  ...  0.0  36854.0  16766  0.0  0.0  0.0  22984   65078  0.442577  0.367160  \n",
       "4  ...  0.0  33287.0  14342  0.0  0.0  0.0  18208   56152  0.440211  0.370650  \n",
       "\n",
       "[5 rows x 23 columns]"
      ]
     },
     "execution_count": 237,
     "metadata": {},
     "output_type": "execute_result"
    }
   ],
   "source": [
    "## Observo las primeras 5 filas del dataframe para ver que las métricas estén bien.\n",
    "df_agrupado_x_temporada.head()"
   ]
  },
  {
   "cell_type": "markdown",
   "metadata": {},
   "source": [
    "Ya, con todas las métricas sin nulos y creadas, procedemos a crear gráficos.\n",
    "El primer gráfico nos es sobre el True Shooting (%TS), que nos dice que esta métrica há subído cada año, esto nos dice que cada año los jugadores son mas efectivos a la hora de tomar sus tiros y que deciden mejor cuando tirar."
   ]
  },
  {
   "cell_type": "code",
   "execution_count": 238,
   "metadata": {},
   "outputs": [
    {
     "data": {
      "image/png": "[encoded data removed]",
      "text/plain": [
       "<Figure size 640x480 with 1 Axes>"
      ]
     },
     "metadata": {},
     "output_type": "display_data"
    }
   ],
   "source": [
    "## Ya con todos los datos limpios, y con las variables creadas, procedo a crear unos gráficos.\n",
    "## creo un gráfico que visualiza la eficiencia de tiros reales a lo largo de los años.\n",
    "sns.lineplot(df_agrupado_x_temporada,x='season',y='%TS')\n",
    "plt.show()"
   ]
  },
  {
   "cell_type": "markdown",
   "metadata": {},
   "source": [
    "El proximo gráfico es sobre la eficiencia en tiros de campo efectiva, que al igual que el True Shooting vá en aumento, esto se debe como dije con el gráfico anterior a que los jugadores ahora toman mejores decisiones a la hora de tomar sus tiros, además, en esta epoca hay muchos jugadores triplístas, a lo que hace que solo se centren en anotar de 3 puntos una vez le llega la pelota, por lo que no necesitan hacer otros tiros. Dato no curioso, es que el True Shooting, como la eficiencia de tiros de campo efectiva van de la mano, con la cualidad de que la eficiencia de tiros de campo efectiva es menor al True Shooting."
   ]
  },
  {
   "cell_type": "code",
   "execution_count": 239,
   "metadata": {},
   "outputs": [
    {
     "data": {
      "image/png": "[encoded data removed]",
      "text/plain": [
       "<Figure size 640x480 with 1 Axes>"
      ]
     },
     "metadata": {},
     "output_type": "display_data"
    }
   ],
   "source": [
    "## Creo otro gráfico, pero este mide la eficiencia de campo efectiva a lo largo de los años.\n",
    "sns.lineplot(df_agrupado_x_temporada,x='season',y='FGe%')\n",
    "plt.show()"
   ]
  },
  {
   "cell_type": "markdown",
   "metadata": {},
   "source": [
    "El gráfico a continuación es muy interesante, ya que se vé como a lo largo de estos años, la cantidad de triples encestados es cada vez mayor, viendo una tendencia a que cada vez el juego se está llevando a tirar de lejos, así también, con esta evolución del juego hace que haya mas jugadores especializados en este area, es decir, en tirar de 3."
   ]
  },
  {
   "cell_type": "code",
   "execution_count": 240,
   "metadata": {},
   "outputs": [
    {
     "data": {
      "image/png": "[encoded data removed]",
      "text/plain": [
       "<Figure size 640x480 with 1 Axes>"
      ]
     },
     "metadata": {},
     "output_type": "display_data"
    }
   ],
   "source": [
    "## Creo un último grafico en donde se visualiza la cantidad de tiros de 3 anotados a lo largo de los años.\n",
    "sns.lineplot(df_agrupado_x_temporada,x='season',y='x3p')\n",
    "plt.show()"
   ]
  },
  {
   "cell_type": "markdown",
   "metadata": {},
   "source": [
    "Para concretar el análisis se me ocurrió hacer un gráfico de correlación, donde se pude ver que la gran mayorías de cosas están relacionadas entre sí."
   ]
  },
  {
   "cell_type": "code",
   "execution_count": 241,
   "metadata": {},
   "outputs": [],
   "source": [
    "matrix_corr=df_agrupado_x_temporada.corr()"
   ]
  },
  {
   "cell_type": "code",
   "execution_count": 242,
   "metadata": {},
   "outputs": [
    {
     "data": {
      "image/png": "[encoded data removed]",
      "text/plain": [
       "<Figure size 640x480 with 2 Axes>"
      ]
     },
     "metadata": {},
     "output_type": "display_data"
    }
   ],
   "source": [
    "sns.heatmap(matrix_corr, cmap='coolwarm', fmt=\".2f\", linewidths=0.1)\n",
    "plt.show()"
   ]
  }
 ],
 "metadata": {
  "kernelspec": {
   "display_name": "Python 3",
   "language": "python",
   "name": "python3"
  },
  "language_info": {
   "codemirror_mode": {
    "name": "ipython",
    "version": 3
   },
   "file_extension": ".py",
   "mimetype": "text/x-python",
   "name": "python",
   "nbconvert_exporter": "python",
   "pygments_lexer": "ipython3",
   "version": "3.12.4"
  }
 },
 "nbformat": 4,
 "nbformat_minor": 2
}
